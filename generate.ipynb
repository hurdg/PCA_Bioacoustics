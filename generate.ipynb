{
 "cells": [
  {
   "cell_type": "code",
   "execution_count": 1,
   "metadata": {},
   "outputs": [],
   "source": [
    "# Confirm GPU is running\n",
    "from tensorflow.python.client import device_lib\n",
    "def get_available_gpus():\n",
    "    local_device_protos = device_lib.list_local_devices()\n",
    "    return [x.name for x in local_device_protos if x.device_type == 'GPU']\n",
    "if len(get_available_gpus()) == 0:\n",
    "  for i in range(4):\n",
    "    print('WARNING: Not running on a GPU! See above for faster generation')"
   ]
  },
  {
   "cell_type": "code",
   "execution_count": null,
   "metadata": {},
   "outputs": [],
   "source": [
    "import tensorflow.compat.v1 as tf\n",
    "tf.disable_v2_behavior()"
   ]
  },
  {
   "cell_type": "code",
   "execution_count": 3,
   "metadata": {},
   "outputs": [
    {
     "name": "stderr",
     "output_type": "stream",
     "text": [
      "c:\\Users\\gavin hurd\\.conda\\envs\\tf_gan\\lib\\site-packages\\tensorflow\\python\\client\\session.py:1769: UserWarning: An interactive session is already active. This can cause out-of-memory errors in some cases. You must explicitly call `InteractiveSession.close()` to release resources held by the other session(s).\n",
      "  warnings.warn('An interactive session is already active. This can '\n"
     ]
    },
    {
     "ename": "ValueError",
     "evalue": "The passed save_path is not a valid checkpoint: train/model.ckpt",
     "output_type": "error",
     "traceback": [
      "\u001b[1;31m---------------------------------------------------------------------------\u001b[0m",
      "\u001b[1;31mValueError\u001b[0m                                Traceback (most recent call last)",
      "Cell \u001b[1;32mIn[3], line 13\u001b[0m\n\u001b[0;32m     11\u001b[0m graph \u001b[38;5;241m=\u001b[39m tf\u001b[38;5;241m.\u001b[39mget_default_graph()\n\u001b[0;32m     12\u001b[0m sess \u001b[38;5;241m=\u001b[39m tf\u001b[38;5;241m.\u001b[39mInteractiveSession()\n\u001b[1;32m---> 13\u001b[0m \u001b[43msaver\u001b[49m\u001b[38;5;241;43m.\u001b[39;49m\u001b[43mrestore\u001b[49m\u001b[43m(\u001b[49m\u001b[43msess\u001b[49m\u001b[43m,\u001b[49m\u001b[43m \u001b[49m\u001b[38;5;124;43m'\u001b[39;49m\u001b[38;5;124;43mtrain/model.ckpt\u001b[39;49m\u001b[38;5;124;43m'\u001b[39;49m\u001b[43m)\u001b[49m\n\u001b[0;32m     15\u001b[0m \u001b[38;5;66;03m# Create 50 random latent vectors z\u001b[39;00m\n\u001b[0;32m     16\u001b[0m _z \u001b[38;5;241m=\u001b[39m (np\u001b[38;5;241m.\u001b[39mrandom\u001b[38;5;241m.\u001b[39mrand(\u001b[38;5;241m50\u001b[39m, \u001b[38;5;241m100\u001b[39m) \u001b[38;5;241m*\u001b[39m \u001b[38;5;241m2.\u001b[39m) \u001b[38;5;241m-\u001b[39m \u001b[38;5;241m1\u001b[39m\n",
      "File \u001b[1;32mc:\\Users\\gavin hurd\\.conda\\envs\\tf_gan\\lib\\site-packages\\tensorflow\\python\\training\\saver.py:1407\u001b[0m, in \u001b[0;36mSaver.restore\u001b[1;34m(self, sess, save_path)\u001b[0m\n\u001b[0;32m   1405\u001b[0m checkpoint_prefix \u001b[38;5;241m=\u001b[39m compat\u001b[38;5;241m.\u001b[39mas_text(save_path)\n\u001b[0;32m   1406\u001b[0m \u001b[38;5;28;01mif\u001b[39;00m \u001b[38;5;129;01mnot\u001b[39;00m checkpoint_management\u001b[38;5;241m.\u001b[39mcheckpoint_exists_internal(checkpoint_prefix):\n\u001b[1;32m-> 1407\u001b[0m   \u001b[38;5;28;01mraise\u001b[39;00m \u001b[38;5;167;01mValueError\u001b[39;00m(\u001b[38;5;124m\"\u001b[39m\u001b[38;5;124mThe passed save_path is not a valid checkpoint: \u001b[39m\u001b[38;5;124m\"\u001b[39m \u001b[38;5;241m+\u001b[39m\n\u001b[0;32m   1408\u001b[0m                    checkpoint_prefix)\n\u001b[0;32m   1410\u001b[0m logging\u001b[38;5;241m.\u001b[39minfo(\u001b[38;5;124m\"\u001b[39m\u001b[38;5;124mRestoring parameters from \u001b[39m\u001b[38;5;132;01m%s\u001b[39;00m\u001b[38;5;124m\"\u001b[39m, checkpoint_prefix)\n\u001b[0;32m   1411\u001b[0m \u001b[38;5;28;01mtry\u001b[39;00m:\n",
      "\u001b[1;31mValueError\u001b[0m: The passed save_path is not a valid checkpoint: train/model.ckpt"
     ]
    }
   ],
   "source": [
    "#import tensorflow as tf\n",
    "####################################\n",
    "import tensorflow.compat.v1 as tf\n",
    "tf.disable_v2_behavior()\n",
    "####################################\n",
    "from IPython.display import display, Audio\n",
    "\n",
    "# Load the graph\n",
    "tf.reset_default_graph()\n",
    "saver = tf.train.import_meta_graph('train/infer/infer.meta')\n",
    "graph = tf.get_default_graph()\n",
    "sess = tf.InteractiveSession()\n",
    "saver.restore(sess, 'train/model.ckpt')\n",
    "\n",
    "# Create 50 random latent vectors z\n",
    "_z = (np.random.rand(50, 100) * 2.) - 1\n",
    "\n",
    "# Synthesize G(z)\n",
    "z = graph.get_tensor_by_name('z:0')\n",
    "G_z = graph.get_tensor_by_name('G_z:0')\n",
    "_G_z = sess.run(G_z, {z: _z})\n",
    "\n",
    "# Play audio in notebook\n",
    "display(Audio(_G_z[0, :, 0], rate=16000))"
   ]
  }
 ],
 "metadata": {
  "kernelspec": {
   "display_name": "tf_gan",
   "language": "python",
   "name": "python3"
  },
  "language_info": {
   "codemirror_mode": {
    "name": "ipython",
    "version": 3
   },
   "file_extension": ".py",
   "mimetype": "text/x-python",
   "name": "python",
   "nbconvert_exporter": "python",
   "pygments_lexer": "ipython3",
   "version": "3.9.19"
  }
 },
 "nbformat": 4,
 "nbformat_minor": 2
}
