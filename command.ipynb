{
 "cells": [
  {
   "cell_type": "code",
   "execution_count": 1,
   "metadata": {},
   "outputs": [],
   "source": [
    "nvidia-smi\n",
    "pip install --upgrade pip\n"
   ]
  },
  {
   "cell_type": "code",
   "execution_count": null,
   "metadata": {},
   "outputs": [],
   "source": [
    "# For GPU users\n",
    "pip install tensorflow[and-cuda]"
   ]
  },
  {
   "cell_type": "code",
   "execution_count": null,
   "metadata": {},
   "outputs": [],
   "source": [
    "!pip install scipy==1.0.0\n",
    "!pip install matplotlib==3.0.2\n",
    "!pip install librosa==0.6.2"
   ]
  },
  {
   "cell_type": "code",
   "execution_count": 5,
   "metadata": {},
   "outputs": [
    {
     "data": {
      "text/plain": [
       "'\\\\\\\\ban-files-02\\\\Groups\\\\EI Monitoring\\\\Amphibian Acoustic Classifier\\\\Analysis\\\\data\\\\positive\\\\wofr'"
      ]
     },
     "execution_count": 5,
     "metadata": {},
     "output_type": "execute_result"
    }
   ],
   "source": [
    "import os\n",
    "\n",
    "parent = os.path.dirname(os.getcwd())\n",
    "\n",
    "wofr_path = os.path.join(parent, 'data', 'positive', 'wofr')\n",
    "wofr_path"
   ]
  },
  {
   "cell_type": "code",
   "execution_count": null,
   "metadata": {},
   "outputs": [
    {
     "name": "stderr",
     "output_type": "stream",
     "text": [
      "'export' is not recognized as an internal or external command,\n",
      "operable program or batch file.\n",
      "Traceback (most recent call last):\n",
      "  File \"Y:\\EI Monitoring\\Amphibian Acoustic Classifier\\Analysis\\GAN\\train_wavegan.py\", line 651, in <module>\n",
      "    raise Exception('Did not find any audio files in specified directory')\n",
      "Exception: Did not find any audio files in specified directory\n"
     ]
    }
   ],
   "source": [
    "!export CUDA_VISIBLE_DEVICES=\"0\"\n",
    "!python train_wavegan.py train ./train \\\n",
    "\t--data_dir \"../Ban-Files-02/Groups/EI\\ Monitoring/Amphibian\\ Acoustic\\ Classifier/Analysis/data/positive/weto\""
   ]
  },
  {
   "cell_type": "code",
   "execution_count": null,
   "metadata": {},
   "outputs": [],
   "source": [
    "//Ban-Files-02/Groups/EI\\ Monitoring/Amphibian\\ Acoustic\\ Classifier"
   ]
  }
 ],
 "metadata": {
  "kernelspec": {
   "display_name": "tf_gan",
   "language": "python",
   "name": "python3"
  },
  "language_info": {
   "codemirror_mode": {
    "name": "ipython",
    "version": 3
   },
   "file_extension": ".py",
   "mimetype": "text/x-python",
   "name": "python",
   "nbconvert_exporter": "python",
   "pygments_lexer": "ipython3",
   "version": "3.9.19"
  }
 },
 "nbformat": 4,
 "nbformat_minor": 2
}
