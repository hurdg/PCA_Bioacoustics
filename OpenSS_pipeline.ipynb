{
 "cells": [
  {
   "cell_type": "code",
   "execution_count": 14,
   "metadata": {},
   "outputs": [],
   "source": [
    "# the cnn module provides classes for training/predicting with various types of CNNs\n",
    "import opensoundscape\n",
    "\n",
    "#other utilities and packages\n",
    "import os\n",
    "import torch\n",
    "from pathlib import Path\n",
    "import numpy as np\n",
    "import pandas as pd\n",
    "import random\n",
    "import subprocess\n",
    "from glob import glob\n",
    "import sklearn\n",
    "\n",
    "#set up plotting\n",
    "from matplotlib import pyplot as plt\n",
    "plt.rcParams['figure.figsize']=[15,5] #for large visuals\n",
    "%config InlineBackend.figure_format = 'retina'\n"
   ]
  },
  {
   "cell_type": "code",
   "execution_count": 2,
   "metadata": {},
   "outputs": [],
   "source": [
    "#Create metadata CSV for OpenSoundScape module\n",
    "\n",
    "\n",
    "data_dir = os.path.join(os.path.dirname(os.getcwd()), 'data')\n",
    "\n",
    "filepath_presence_dict = {\"filepath\":[], \"presence\":[]}\n",
    "\n",
    "weto_train_dir = os.path.join(data_dir, 'weto', 'train')\n",
    "for set_key in ['positive', 'negative']:\n",
    "    set_dir = os.path.join(weto_train_dir, set_key)\n",
    "    filenames = os.listdir(set_dir)\n",
    "    filepath_list = filepath_presence_dict[\"filepath\"]\n",
    "    presence_list = filepath_presence_dict[\"presence\"]\n",
    "    for name in filenames:\n",
    "        filepath = os.path.join(set_dir, name)\n",
    "        filepath_list.append(filepath)\n",
    "    filepath_presence_dict.update({'filepath': filepath_list})\n",
    "    if set_key == \"positive\":\n",
    "        presence_list = list(np.repeat(\"positive\", len(filenames)))\n",
    "        filepath_presence_dict.update({'presence': presence_list})\n",
    "    if set_key == \"negative\":\n",
    "        presence_list.extend(list(np.repeat(\"negative\", len(filenames))))\n",
    "        filepath_presence_dict.update({'presence': presence_list})    \n"
   ]
  },
  {
   "cell_type": "code",
   "execution_count": 16,
   "metadata": {},
   "outputs": [
    {
     "data": {
      "text/html": [
       "<div>\n",
       "<style scoped>\n",
       "    .dataframe tbody tr th:only-of-type {\n",
       "        vertical-align: middle;\n",
       "    }\n",
       "\n",
       "    .dataframe tbody tr th {\n",
       "        vertical-align: top;\n",
       "    }\n",
       "\n",
       "    .dataframe thead th {\n",
       "        text-align: right;\n",
       "    }\n",
       "</style>\n",
       "<table border=\"1\" class=\"dataframe\">\n",
       "  <thead>\n",
       "    <tr style=\"text-align: right;\">\n",
       "      <th></th>\n",
       "      <th>negative</th>\n",
       "      <th>positive</th>\n",
       "    </tr>\n",
       "    <tr>\n",
       "      <th>filepath</th>\n",
       "      <th></th>\n",
       "      <th></th>\n",
       "    </tr>\n",
       "  </thead>\n",
       "  <tbody>\n",
       "    <tr>\n",
       "      <th>c:\\Users\\gavin hurd\\Documents\\bioacoustics_local\\data\\weto\\train\\positive\\A-11-E_20210430_230000_99_5_0-3.wav</th>\n",
       "      <td>0</td>\n",
       "      <td>1</td>\n",
       "    </tr>\n",
       "    <tr>\n",
       "      <th>c:\\Users\\gavin hurd\\Documents\\bioacoustics_local\\data\\weto\\train\\positive\\A-11-E_20210503_230000_26_9_0-3.wav</th>\n",
       "      <td>0</td>\n",
       "      <td>1</td>\n",
       "    </tr>\n",
       "    <tr>\n",
       "      <th>c:\\Users\\gavin hurd\\Documents\\bioacoustics_local\\data\\weto\\train\\positive\\A-11-E_20210503_230000_26_9_3-6.wav</th>\n",
       "      <td>0</td>\n",
       "      <td>1</td>\n",
       "    </tr>\n",
       "  </tbody>\n",
       "</table>\n",
       "</div>"
      ],
      "text/plain": [
       "                                                    negative  positive\n",
       "filepath                                                              \n",
       "c:\\Users\\gavin hurd\\Documents\\bioacoustics_loca...         0         1\n",
       "c:\\Users\\gavin hurd\\Documents\\bioacoustics_loca...         0         1\n",
       "c:\\Users\\gavin hurd\\Documents\\bioacoustics_loca...         0         1"
      ]
     },
     "metadata": {},
     "output_type": "display_data"
    },
    {
     "data": {
      "text/html": [
       "<div>\n",
       "<style scoped>\n",
       "    .dataframe tbody tr th:only-of-type {\n",
       "        vertical-align: middle;\n",
       "    }\n",
       "\n",
       "    .dataframe tbody tr th {\n",
       "        vertical-align: top;\n",
       "    }\n",
       "\n",
       "    .dataframe thead th {\n",
       "        text-align: right;\n",
       "    }\n",
       "</style>\n",
       "<table border=\"1\" class=\"dataframe\">\n",
       "  <thead>\n",
       "    <tr style=\"text-align: right;\">\n",
       "      <th></th>\n",
       "      <th>negative</th>\n",
       "      <th>positive</th>\n",
       "    </tr>\n",
       "    <tr>\n",
       "      <th>filepath</th>\n",
       "      <th></th>\n",
       "      <th></th>\n",
       "    </tr>\n",
       "  </thead>\n",
       "  <tbody>\n",
       "    <tr>\n",
       "      <th>c:\\Users\\gavin hurd\\Documents\\bioacoustics_local\\data\\weto\\train\\negative\\A-9_20210515_230000_120_8_3-6.wav</th>\n",
       "      <td>1</td>\n",
       "      <td>0</td>\n",
       "    </tr>\n",
       "    <tr>\n",
       "      <th>c:\\Users\\gavin hurd\\Documents\\bioacoustics_local\\data\\weto\\train\\negative\\A-9_20210515_230000_60_4_0-3.wav</th>\n",
       "      <td>1</td>\n",
       "      <td>0</td>\n",
       "    </tr>\n",
       "    <tr>\n",
       "      <th>c:\\Users\\gavin hurd\\Documents\\bioacoustics_local\\data\\weto\\train\\negative\\A-9_20210515_230000_63_5_0-3.wav</th>\n",
       "      <td>1</td>\n",
       "      <td>0</td>\n",
       "    </tr>\n",
       "  </tbody>\n",
       "</table>\n",
       "</div>"
      ],
      "text/plain": [
       "                                                    negative  positive\n",
       "filepath                                                              \n",
       "c:\\Users\\gavin hurd\\Documents\\bioacoustics_loca...         1         0\n",
       "c:\\Users\\gavin hurd\\Documents\\bioacoustics_loca...         1         0\n",
       "c:\\Users\\gavin hurd\\Documents\\bioacoustics_loca...         1         0"
      ]
     },
     "metadata": {},
     "output_type": "display_data"
    },
    {
     "name": "stdout",
     "output_type": "stream",
     "text": [
      "There are 590 positive samples\n",
      "There are 755 negative samples\n"
     ]
    }
   ],
   "source": [
    "meta_weto = pd.get_dummies(pd.DataFrame(filepath_presence_dict), columns = ['presence'], prefix = \"\", prefix_sep=\"\", dtype = int).set_index('filepath')\n",
    "display(meta_weto.head(3), meta_weto.tail(3))\n",
    "print(f\"There are {np.sum(meta_weto['positive'])} positive samples\")\n",
    "print(f\"There are {np.sum(meta_weto['negative'])} negative samples\")"
   ]
  },
  {
   "cell_type": "code",
   "execution_count": 22,
   "metadata": {},
   "outputs": [
    {
     "name": "stdout",
     "output_type": "stream",
     "text": [
      "There are 800 positive samples\n",
      "There are 800 negative samples\n"
     ]
    }
   ],
   "source": [
    "meta_weto_balanced = opensoundscape.data_selection.resample(meta_weto, \n",
    "                                       n_samples_per_class = 800, \n",
    "                                       upsample=True, \n",
    "                                       downsample=True, \n",
    "                                       with_replace=False, \n",
    "                                       random_state=42)\n",
    "\n",
    "print(f\"There are {np.sum(meta_weto_balanced['positive'])} positive samples\")\n",
    "print(f\"There are {np.sum(meta_weto_balanced['negative'])} negative samples\")"
   ]
  }
 ],
 "metadata": {
  "kernelspec": {
   "display_name": "amphib_pt",
   "language": "python",
   "name": "python3"
  },
  "language_info": {
   "codemirror_mode": {
    "name": "ipython",
    "version": 3
   },
   "file_extension": ".py",
   "mimetype": "text/x-python",
   "name": "python",
   "nbconvert_exporter": "python",
   "pygments_lexer": "ipython3",
   "version": "3.10.14"
  }
 },
 "nbformat": 4,
 "nbformat_minor": 2
}
