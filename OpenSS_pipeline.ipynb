{
 "cells": [
  {
   "cell_type": "code",
   "execution_count": 3,
   "metadata": {},
   "outputs": [],
   "source": [
    "# the cnn module provides classes for training/predicting with various types of CNNs\n",
    "from opensoundscape import CNN\n",
    "\n",
    "#other utilities and packages\n",
    "import os\n",
    "import torch\n",
    "from pathlib import Path\n",
    "import numpy as np\n",
    "import pandas as pd\n",
    "import random\n",
    "import subprocess\n",
    "from glob import glob\n",
    "import sklearn\n",
    "\n",
    "#set up plotting\n",
    "from matplotlib import pyplot as plt\n",
    "plt.rcParams['figure.figsize']=[15,5] #for large visuals\n",
    "%config InlineBackend.figure_format = 'retina'\n"
   ]
  },
  {
   "cell_type": "code",
   "execution_count": 31,
   "metadata": {},
   "outputs": [
    {
     "name": "stdout",
     "output_type": "stream",
     "text": [
      "positive\n",
      "negative\n"
     ]
    }
   ],
   "source": [
    "#Create metadata CSV for OpenSoundScape module\n",
    "\n",
    "\n",
    "data_dir = os.path.join(os.path.dirname(os.getcwd()), 'data')\n",
    "\n",
    "filepath_presence_dict = {\"filepath\":[], \"presence\":[]}\n",
    "\n",
    "weto_train_dir = os.path.join(data_dir, 'weto', 'train')\n",
    "for set_key in ['positive', 'negative']:\n",
    "    set_dir = os.path.join(weto_train_dir, set_key)\n",
    "    filenames = os.listdir(set_dir)\n",
    "    filepath_list = filepath_presence_dict[\"filepath\"]\n",
    "    presence_list = filepath_presence_dict[\"presence\"]\n",
    "    for name in filenames:\n",
    "        filepath = os.path.join(set_dir, name)\n",
    "        filepath_list.append(filepath)\n",
    "    filepath_presence_dict.update({'filepath': filepath_list})\n",
    "    if set_key == \"positive\":\n",
    "        presence_list = list(np.repeat(\"positive\", len(filenames)))\n",
    "        filepath_presence_dict.update({'presence': presence_list})\n",
    "    if set_key == \"negative\":\n",
    "        presence_list.extend(list(np.repeat(\"negative\", len(filenames))))\n",
    "        filepath_presence_dict.update({'presence': presence_list})    \n"
   ]
  },
  {
   "cell_type": "code",
   "execution_count": 42,
   "metadata": {},
   "outputs": [
    {
     "data": {
      "text/html": [
       "<div>\n",
       "<style scoped>\n",
       "    .dataframe tbody tr th:only-of-type {\n",
       "        vertical-align: middle;\n",
       "    }\n",
       "\n",
       "    .dataframe tbody tr th {\n",
       "        vertical-align: top;\n",
       "    }\n",
       "\n",
       "    .dataframe thead th {\n",
       "        text-align: right;\n",
       "    }\n",
       "</style>\n",
       "<table border=\"1\" class=\"dataframe\">\n",
       "  <thead>\n",
       "    <tr style=\"text-align: right;\">\n",
       "      <th></th>\n",
       "      <th>filepath</th>\n",
       "      <th>negative</th>\n",
       "      <th>positive</th>\n",
       "    </tr>\n",
       "  </thead>\n",
       "  <tbody>\n",
       "    <tr>\n",
       "      <th>0</th>\n",
       "      <td>c:\\Users\\gavin hurd\\Documents\\bioacoustics_loc...</td>\n",
       "      <td>0</td>\n",
       "      <td>1</td>\n",
       "    </tr>\n",
       "    <tr>\n",
       "      <th>1</th>\n",
       "      <td>c:\\Users\\gavin hurd\\Documents\\bioacoustics_loc...</td>\n",
       "      <td>0</td>\n",
       "      <td>1</td>\n",
       "    </tr>\n",
       "    <tr>\n",
       "      <th>2</th>\n",
       "      <td>c:\\Users\\gavin hurd\\Documents\\bioacoustics_loc...</td>\n",
       "      <td>0</td>\n",
       "      <td>1</td>\n",
       "    </tr>\n",
       "  </tbody>\n",
       "</table>\n",
       "</div>"
      ],
      "text/plain": [
       "                                            filepath  negative  positive\n",
       "0  c:\\Users\\gavin hurd\\Documents\\bioacoustics_loc...         0         1\n",
       "1  c:\\Users\\gavin hurd\\Documents\\bioacoustics_loc...         0         1\n",
       "2  c:\\Users\\gavin hurd\\Documents\\bioacoustics_loc...         0         1"
      ]
     },
     "metadata": {},
     "output_type": "display_data"
    },
    {
     "data": {
      "text/html": [
       "<div>\n",
       "<style scoped>\n",
       "    .dataframe tbody tr th:only-of-type {\n",
       "        vertical-align: middle;\n",
       "    }\n",
       "\n",
       "    .dataframe tbody tr th {\n",
       "        vertical-align: top;\n",
       "    }\n",
       "\n",
       "    .dataframe thead th {\n",
       "        text-align: right;\n",
       "    }\n",
       "</style>\n",
       "<table border=\"1\" class=\"dataframe\">\n",
       "  <thead>\n",
       "    <tr style=\"text-align: right;\">\n",
       "      <th></th>\n",
       "      <th>filepath</th>\n",
       "      <th>negative</th>\n",
       "      <th>positive</th>\n",
       "    </tr>\n",
       "  </thead>\n",
       "  <tbody>\n",
       "    <tr>\n",
       "      <th>1342</th>\n",
       "      <td>c:\\Users\\gavin hurd\\Documents\\bioacoustics_loc...</td>\n",
       "      <td>1</td>\n",
       "      <td>0</td>\n",
       "    </tr>\n",
       "    <tr>\n",
       "      <th>1343</th>\n",
       "      <td>c:\\Users\\gavin hurd\\Documents\\bioacoustics_loc...</td>\n",
       "      <td>1</td>\n",
       "      <td>0</td>\n",
       "    </tr>\n",
       "    <tr>\n",
       "      <th>1344</th>\n",
       "      <td>c:\\Users\\gavin hurd\\Documents\\bioacoustics_loc...</td>\n",
       "      <td>1</td>\n",
       "      <td>0</td>\n",
       "    </tr>\n",
       "  </tbody>\n",
       "</table>\n",
       "</div>"
      ],
      "text/plain": [
       "                                               filepath  negative  positive\n",
       "1342  c:\\Users\\gavin hurd\\Documents\\bioacoustics_loc...         1         0\n",
       "1343  c:\\Users\\gavin hurd\\Documents\\bioacoustics_loc...         1         0\n",
       "1344  c:\\Users\\gavin hurd\\Documents\\bioacoustics_loc...         1         0"
      ]
     },
     "metadata": {},
     "output_type": "display_data"
    }
   ],
   "source": [
    "meta_weto = pd.get_dummies(pd.DataFrame(filepath_presence_dict), columns = ['presence'], prefix = \"\", prefix_sep=\"\", dtype = int)\n",
    "display(meta_weto.head(3), meta_weto.tail(3))"
   ]
  }
 ],
 "metadata": {
  "kernelspec": {
   "display_name": "amphib_pt",
   "language": "python",
   "name": "python3"
  },
  "language_info": {
   "codemirror_mode": {
    "name": "ipython",
    "version": 3
   },
   "file_extension": ".py",
   "mimetype": "text/x-python",
   "name": "python",
   "nbconvert_exporter": "python",
   "pygments_lexer": "ipython3",
   "version": "3.10.14"
  }
 },
 "nbformat": 4,
 "nbformat_minor": 2
}
